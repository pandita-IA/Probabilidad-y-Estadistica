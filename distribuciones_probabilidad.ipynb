{
 "cells": [
  {
   "cell_type": "code",
   "execution_count": 115,
   "metadata": {},
   "outputs": [],
   "source": [
    "from scipy.stats import rv_continuous, rv_discrete, norm, binom, geom, poisson, expon, gamma\n",
    "from scipy.special import comb # Binomio de newton\n",
    "# pmf/pdf (funcion de probabilidad de massa de la cual se le pasan los quantiles), cdf ((probabilidad aciumulada, se le pasan los quantiles) y ppf (inversa de cdf)"
   ]
  },
  {
   "cell_type": "markdown",
   "metadata": {},
   "source": []
  },
  {
   "cell_type": "code",
   "execution_count": 55,
   "metadata": {},
   "outputs": [
    {
     "name": "stdout",
     "output_type": "stream",
     "text": [
      "2.0 1.0 0.375 1\n",
      "2.0 1.0 0.375 1.0\n"
     ]
    }
   ],
   "source": [
    "\"\"\"\n",
    "Distribución Binomial: se realizan n pruebas de Bernoulli independientes ~ Bin(n, p)\n",
    "\"\"\"\n",
    "\n",
    "class Binomial(rv_discrete):\n",
    "    \"\"\"\n",
    "        Distribución Binomiral: se realizan n pruebas de Bernoulli independientes\n",
    "    \"\"\"\n",
    "    def __init__(self, n, p):\n",
    "        self.n = n\n",
    "        self.p = p\n",
    "        self.q = 1 - p\n",
    "        self.media = self.media()\n",
    "        self.varianza = self.varianza()\n",
    "\n",
    "    def funcion(self, k):\n",
    "        return comb(self.n, k) * self.p ** k * self.q ** (self.n-k) \n",
    "\n",
    "    def media(self):\n",
    "        return self.n * self.p\n",
    "\n",
    "    def varianza(self):\n",
    "        return self.n * self.p * self.q\n",
    "\n",
    "    def quantil(self, porcentaje):\n",
    "        assert porcentaje >= 0 and porcentaje <= 1\n",
    "        acumulado = 0\n",
    "        for i in range(self.n + 1):\n",
    "            acumulado += self.funcion(i)\n",
    "            if acumulado > porcentaje:\n",
    "                return i\n",
    "\n",
    "bin = Binomial(4, 0.5)\n",
    "print(bin.media, bin.varianza, bin.funcion(2), bin.quantil(0.3))\n",
    "mean, var = binom.stats(4, 0.5, moments = 'mv')\n",
    "# pmf correcponde a la funcion y ppf al valor que corresponde dicho quantil\n",
    "print(mean, var, binom.pmf(2, 4, 0.5), binom.ppf(0.3, 4, 0.5))\n"
   ]
  },
  {
   "cell_type": "code",
   "execution_count": 94,
   "metadata": {},
   "outputs": [
    {
     "name": "stdout",
     "output_type": "stream",
     "text": [
      "2.0 2.0 0.25\n",
      "2.0 2.0 0.25 4.0\n"
     ]
    }
   ],
   "source": [
    "class Geometrica(rv_discrete):\n",
    "    \"\"\"\n",
    "        Distribución Geométrica: número de intentos hasta primer éxito\n",
    "    \"\"\"\n",
    "\n",
    "    def __init__(self, p):\n",
    "        self.p = p\n",
    "        self.q = 1 - p\n",
    "        self.media = self.media()\n",
    "        self.varianza = self.varianza()\n",
    "\n",
    "    def funcion(self, k):\n",
    "        return self.p * self.q ** (k-1)\n",
    "\n",
    "    def media(self):\n",
    "        return 1 / self.p\n",
    "\n",
    "    def varianza(self):\n",
    "        return self.q / (self.p**2)\n",
    "\n",
    "\n",
    "geo = Geometrica(0.5)\n",
    "print(geo.media, geo.varianza, geo.funcion(2))\n",
    "mean, var = geom.stats(0.5, moments = 'mv')\n",
    "print(mean, var, geom.pmf(2, 0.5), geom.ppf(0.9, 0.5))\n",
    "\n"
   ]
  },
  {
   "cell_type": "code",
   "execution_count": 98,
   "metadata": {},
   "outputs": [
    {
     "name": "stdout",
     "output_type": "stream",
     "text": [
      "0.5 0.5 0.07581633246407918\n",
      "0.5 0.5 0.07581633246407919 1.0\n"
     ]
    }
   ],
   "source": [
    "\n",
    "from math import factorial, e\n",
    "\n",
    "\n",
    "class Poisson(rv_discrete):\n",
    "    \"\"\"\n",
    "        Distribución Poisson: n eventos en x tiempo\n",
    "    \"\"\"\n",
    "\n",
    "    def __init__(self, landa):\n",
    "        self.landa = landa\n",
    "        self.media = self.media()\n",
    "        self.varianza = self.varianza()\n",
    "\n",
    "    def funcion(self, k):\n",
    "        return (self.landa ** k) / factorial(k) * math.e ** - self.landa\n",
    "\n",
    "    def media(self):\n",
    "        return self.landa\n",
    "\n",
    "    def varianza(self):\n",
    "        return self.landa\n",
    "\n",
    "\n",
    "geo = Poisson(0.5)\n",
    "print(geo.media, geo.varianza, geo.funcion(2))\n",
    "mean, var = poisson.stats(0.5, moments = 'mv')\n",
    "print(mean, var, poisson.pmf(2, 0.5), poisson.ppf(0.9, 0.5))\n",
    "\n"
   ]
  },
  {
   "cell_type": "code",
   "execution_count": 114,
   "metadata": {},
   "outputs": [
    {
     "name": "stdout",
     "output_type": "stream",
     "text": [
      "0.5 0.25 0.03663127777746836\n",
      "3.0 1.0 0.0\n"
     ]
    }
   ],
   "source": [
    "from scipy.stats import exponweib\n",
    "\n",
    "class Exponencial(rv_continuous):\n",
    "    \"\"\"\n",
    "        Distribución Poisson: n eventos en x tiempo\n",
    "    \"\"\"\n",
    "\n",
    "    def __init__(self, landa):\n",
    "        self.landa = landa\n",
    "        self.media = self.media()\n",
    "        self.varianza = self.varianza()\n",
    "\n",
    "    def funcion(self, x):\n",
    "        assert x > 0\n",
    "        return self.landa * math.exp(- self.landa * x)\n",
    "\n",
    "    def media(self):\n",
    "        return 1 / self.landa\n",
    "\n",
    "    def varianza(self):\n",
    "        return 1 / self.landa ** 2\n",
    "\n",
    "\n",
    "        \n",
    "geo = Exponencial(2)\n",
    "print(geo.media, geo.varianza, geo.funcion(2))\n",
    "mean, var = expon.stats(2, moments = 'mv')\n",
    "print(mean, var, expon.pdf(0.5, 2))"
   ]
  },
  {
   "cell_type": "code",
   "execution_count": 130,
   "metadata": {},
   "outputs": [
    {
     "name": "stdout",
     "output_type": "stream",
     "text": [
      "2 4 0.09973557010035818\n"
     ]
    }
   ],
   "source": [
    "from scipy.stats import exponweib\n",
    "\n",
    "class Normal(rv_continuous):\n",
    "    \"\"\"\n",
    "        Distribución Poisson: n eventos en x tiempo\n",
    "    \"\"\"\n",
    "\n",
    "    def __init__(self, mu, theta):\n",
    "        self.mu = mu\n",
    "        self.theta = theta\n",
    "        self.media = self.media()\n",
    "        self.varianza = self.varianza()\n",
    "\n",
    "    def funcion(self, x):\n",
    "        return 1 / (self.theta * (2 * math.pi)**0.5) * math.exp(-0.5 * ((x - self.mu) / self.theta)**2)\n",
    "\n",
    "    def media(self):\n",
    "        return self.mu\n",
    "\n",
    "    def varianza(self):\n",
    "        return self.theta\n",
    "\n",
    "\n",
    "        \n",
    "geo = Normal(2, 4)\n",
    "print(geo.media, geo.varianza, geo.funcion(2))"
   ]
  },
  {
   "cell_type": "code",
   "execution_count": 126,
   "metadata": {},
   "outputs": [
    {
     "name": "stdout",
     "output_type": "stream",
     "text": [
      "0.25 0.125 -0.010333492677048348\n",
      "2.5 2.0 inf\n"
     ]
    }
   ],
   "source": [
    "from scipy.integrate import quad\n",
    "import numpy as np\n",
    "\n",
    "class Gamma(rv_continuous):\n",
    "    \"\"\"\n",
    "        Distribución Poisson: n eventos en x tiempo\n",
    "    \"\"\"\n",
    "\n",
    "    def __init__(self, landa, p):\n",
    "        self.landa = landa\n",
    "        self.p = p\n",
    "        self.media = self.media()\n",
    "        self.varianza = self.varianza()\n",
    "\n",
    "    def funcion(self, x):\n",
    "        f = quad(lambda x: math.exp(-x) * x ** (self.p - 1), np.inf, 0)[0]\n",
    "        return self.landa ** self.p / f * math.exp(-self.landa * x) * x **(self.p-1)\n",
    "\n",
    "    def media(self):\n",
    "        return self.p / self.landa\n",
    "\n",
    "    def varianza(self):\n",
    "        return self.p / self.landa ** 2\n",
    "\n",
    "\n",
    "        \n",
    "geo = Gamma(2, 0.5)\n",
    "print(geo.media, geo.varianza, geo.funcion(2))\n",
    "mean, var = gamma.stats(2, 0.5, moments = 'mv')\n",
    "print(mean, var, gamma.pdf(2, 0.5, 2))"
   ]
  }
 ],
 "metadata": {
  "kernelspec": {
   "display_name": "Python 3",
   "language": "python",
   "name": "python3"
  },
  "language_info": {
   "codemirror_mode": {
    "name": "ipython",
    "version": 3
   },
   "file_extension": ".py",
   "mimetype": "text/x-python",
   "name": "python",
   "nbconvert_exporter": "python",
   "pygments_lexer": "ipython3",
   "version": "3.10.11"
  },
  "orig_nbformat": 4,
  "vscode": {
   "interpreter": {
    "hash": "78aa169fa8cb534f2c09a145d6be1153ad7cb638329f02700092bf038b8c2744"
   }
  }
 },
 "nbformat": 4,
 "nbformat_minor": 2
}
